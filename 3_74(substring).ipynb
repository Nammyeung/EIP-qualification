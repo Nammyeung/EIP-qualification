{
  "nbformat": 4,
  "nbformat_minor": 0,
  "metadata": {
    "colab": {
      "name": "3-74(substring).ipynb",
      "provenance": [],
      "authorship_tag": "ABX9TyORew45wHkDvfZsoB6dVRNd",
      "include_colab_link": true
    },
    "kernelspec": {
      "name": "python3",
      "display_name": "Python 3"
    }
  },
  "cells": [
    {
      "cell_type": "markdown",
      "metadata": {
        "id": "view-in-github",
        "colab_type": "text"
      },
      "source": [
        "<a href=\"https://colab.research.google.com/github/Nammyeung/EIP-qualification/blob/master/3_74(substring).ipynb\" target=\"_parent\"><img src=\"https://colab.research.google.com/assets/colab-badge.svg\" alt=\"Open In Colab\"/></a>"
      ]
    },
    {
      "cell_type": "code",
      "metadata": {
        "id": "GdonOd7fDUg9",
        "colab_type": "code",
        "colab": {
          "base_uri": "https://localhost:8080/",
          "height": 89
        },
        "outputId": "1a02fb10-0a5c-45c9-d194-0962d7b7bd26"
      },
      "source": [
        "#string = input(\"7문자 이상 문자열을 입력하시오 :\")\n",
        "string = 'Hello World'\n",
        "ans1 = string[1:3] + string[-3:]\n",
        "print(ans1)\n",
        "ans1 = string[:3] + string[-3:-1]\n",
        "print(ans1)\n",
        "ans1 = string[0:3] + string[-3:]\n",
        "print(ans1)\n",
        "ans1 = string[0:] + string[:-1]\n",
        "print(ans1)"
      ],
      "execution_count": 2,
      "outputs": [
        {
          "output_type": "stream",
          "text": [
            "elrld\n",
            "Helrl\n",
            "Helrld\n",
            "Hello WorldHello Worl\n"
          ],
          "name": "stdout"
        }
      ]
    }
  ]
}